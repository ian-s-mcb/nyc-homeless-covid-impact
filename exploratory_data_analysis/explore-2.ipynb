{
 "cells": [
  {
   "cell_type": "markdown",
   "metadata": {},
   "source": [
    "# explore-2.ipynb\n",
    "\n",
    "### CSc-59866 - Senior Design - Prof. Etemadpour\n",
    "\n",
    "* Purpose: exploratory data analysis for shelter, COVID-19, and unemployment dataset from NYC Open Data and NYS Department of Labor\n",
    "* Date: 2020-12-18\n",
    "* Authors: Xin Chen, Ian S. McBride, Lifu Tao"
   ]
  },
  {
   "cell_type": "code",
   "execution_count": null,
   "metadata": {},
   "outputs": [],
   "source": [
    "import json\n",
    "import numpy as np\n",
    "import os\n",
    "import pandas as pd\n",
    "import pickle\n",
    "from sodapy import Socrata\n",
    "from urllib.request import urlopen"
   ]
  },
  {
   "cell_type": "markdown",
   "metadata": {},
   "source": [
    "### Access dataset"
   ]
  },
  {
   "cell_type": "code",
   "execution_count": null,
   "metadata": {},
   "outputs": [],
   "source": [
    "# Access dataset via API call (unauthenicated, rate-limited)\n",
    "# with urlopen('https://data.cityofnewyork.us/api/geospatial/yfnk-k7r4?method=export&format=GeoJSON') as response:\n",
    "#     geojson = json.load(response)\n",
    "\n",
    "# Access dataset via manually downloaded file\n",
    "# with open('./data/Community Districts.geojson', 'r') as f:\n",
    "#     geojson = json.load(f)\n",
    "\n",
    "# Access dataset via sodapy with a token\n",
    "client = Socrata(\n",
    "    'data.cityofnewyork.us',\n",
    "    'o37N4aJqM70C9bwiqcfTNFIRB',\n",
    ")\n",
    "\n",
    "# Geodata for boro-cds\n",
    "# From: https://data.cityofnewyork.us/City-Government/Community-Districts/yfnk-k7r4\n",
    "geojson = client.get('jp9i-3b7y', limit=2000, content_type='geojson')\n",
    "\n",
    "# Monthly shelter data by boro-cd\n",
    "# From: https://data.cityofnewyork.us/Social-Services/Individual-Census-by-Borough-Community-District-an/veav-vj3r\n",
    "results = client.get('veav-vj3r', limit=2000)\n",
    "shelter_df = pd.DataFrame.from_records(results, index='report_date')"
   ]
  },
  {
   "cell_type": "markdown",
   "metadata": {},
   "source": [
    "## Clean shelter data"
   ]
  },
  {
   "cell_type": "code",
   "execution_count": null,
   "metadata": {},
   "outputs": [],
   "source": [
    "# Check row count (should be >1.4K)\n",
    "display(shelter_df.info())\n",
    "display(shelter_df)\n",
    "display(shelter_df.columns)"
   ]
  },
  {
   "cell_type": "code",
   "execution_count": null,
   "metadata": {},
   "outputs": [],
   "source": [
    "# Fix column names\n",
    "columns_orig = [\n",
    "    'report_date',\n",
    "    'borough',\n",
    "    'community_districts',\n",
    "    'census_type',\n",
    "    'adult_family_shelter',\n",
    "    'adult_shelter',\n",
    "    'family_cluster',\n",
    "    'family_with_children_comm',\n",
    "    'family_with_chidren_shelter',\n",
    "    'adult_shelter_comm_hotel',\n",
    "    'adult_family_comm_hotel',\n",
    "]\n",
    "columns_new = [\n",
    "    'Borough',\n",
    "    'Community Districts',\n",
    "    'Census Type',\n",
    "    'Adult Family Shelter',\n",
    "    'Adult Shelter',\n",
    "    'Family Cluster',\n",
    "    'Family With Children Comm',\n",
    "    'Family With Chidren Shelter',\n",
    "    'Adult Shelter Comm Hotel',\n",
    "    'Adult Family Comm Hotel',\n",
    "]\n",
    "\n",
    "# TODO delete this\n",
    "shelter_df = pd.DataFrame.from_records(results, index='report_date')\n",
    "\n",
    "# Fix columns\n",
    "shelter_df.columns = columns_new\n",
    "\n",
    "# Fix index\n",
    "# shelter_df.index = pd.to_datetime(shelter_df.index).to_period('M').rename('Date')\n",
    "shelter_df.index = pd.to_datetime(shelter_df.index).values.astype('datetime64[M]')\n",
    "shelter_df.index.rename('Date')\n",
    "\n",
    "# Replace NaNs\n",
    "shelter_df.fillna(0, inplace=True)\n",
    "\n",
    "# Fix column types\n",
    "shelter_df = shelter_df.astype({\n",
    "    'Community Districts': int,\n",
    "    'Adult Family Shelter': int,\n",
    "    'Adult Shelter': int,\n",
    "    'Family Cluster': int,\n",
    "    'Family With Children Comm': int,\n",
    "    'Family With Chidren Shelter': int,\n",
    "    'Adult Shelter Comm Hotel': int,\n",
    "    'Adult Family Comm Hotel': int,\n",
    "})\n",
    "\n",
    "# Add total column\n",
    "shelter_df['Shelter Population'] = shelter_df[[\n",
    "    'Adult Family Shelter',\n",
    "    'Adult Shelter',\n",
    "    'Family Cluster',\n",
    "    'Family With Children Comm',\n",
    "    'Family With Chidren Shelter',\n",
    "    'Adult Shelter Comm Hotel',\n",
    "    'Adult Family Comm Hotel',\n",
    "]].sum(axis=1)\n",
    "\n",
    "# Merge Borough, Community Districts into one column: Community District\n",
    "boro_mapping_dict = {\n",
    "    'Manhattan': 1,\n",
    "    'Bronx': 2,\n",
    "    'Brooklyn': 3,\n",
    "    'Queens': 4,\n",
    "    'Staten Island': 5,\n",
    "}\n",
    "concat_boro_cd = lambda row: f\"{boro_mapping_dict[row['Borough']]}{row['Community Districts']:02}\"\n",
    "shelter_df['Community District'] = shelter_df[['Borough', 'Community Districts']].apply(concat_boro_cd, axis=1)\n",
    "shelter_df = shelter_df[['Community District', 'Shelter Population']]\n",
    "\n",
    "display(shelter_df.head())\n",
    "display(shelter_df.info())\n",
    "display(shelter_df[shelter_df['Community District'] == '101'])"
   ]
  },
  {
   "cell_type": "markdown",
   "metadata": {},
   "source": [
    "### Store datasets locally"
   ]
  },
  {
   "cell_type": "code",
   "execution_count": null,
   "metadata": {},
   "outputs": [],
   "source": [
    "os.makedirs('./data', exist_ok=True)\n",
    "with open('./data/geojson.pickle', 'wb') as f:\n",
    "    pickle.dump(geojson, f)\n",
    "shelter_df.to_pickle('./data/shelter_df.pickle')"
   ]
  }
 ],
 "metadata": {
  "kernelspec": {
   "display_name": "Python 3",
   "language": "python",
   "name": "python3"
  },
  "language_info": {
   "codemirror_mode": {
    "name": "ipython",
    "version": 3
   },
   "file_extension": ".py",
   "mimetype": "text/x-python",
   "name": "python",
   "nbconvert_exporter": "python",
   "pygments_lexer": "ipython3",
   "version": "3.8.6"
  }
 },
 "nbformat": 4,
 "nbformat_minor": 4
}
