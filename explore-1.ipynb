{
 "cells": [
  {
   "cell_type": "markdown",
   "metadata": {},
   "source": [
    "# explore-1.ipynb\n",
    "\n",
    "### CSc-59866 - Senior Design - Prof. Etemadpour\n",
    "\n",
    "* Purpose: exploratory data analysis for shelter, COVID-19, and unemployment dataset from NYC Open Data and NYS Department of Labor\n",
    "* Date: 2020-11-27\n",
    "* Authors: Xin Chen, Ian S. McBride, Lifu Tao"
   ]
  },
  {
   "cell_type": "code",
   "execution_count": null,
   "metadata": {},
   "outputs": [],
   "source": [
    "%matplotlib inline\n",
    "import matplotlib.pyplot as plt\n",
    "import numpy as np\n",
    "import os\n",
    "import pandas as pd\n",
    "import requests\n",
    "import scipy.stats as stats"
   ]
  },
  {
   "cell_type": "code",
   "execution_count": null,
   "metadata": {},
   "outputs": [],
   "source": [
    "# API link from:\n",
    "# https://data.cityofnewyork.us/Social-Services/DHS-Daily-Report/k46n-sa2m\n",
    "api_shelter = 'https://data.cityofnewyork.us/resource/k46n-sa2m.csv'\n",
    "df_shelter = pd.read_csv(api_shelter)\n",
    "\n",
    "# API link from:\n",
    "# https://data.cityofnewyork.us/Health/COVID-19-Daily-Counts-of-Cases-Hospitalizations-an/rc75-m7u3\n",
    "api_covid = 'https://data.cityofnewyork.us/resource/rc75-m7u3.csv'\n",
    "df_covid = pd.read_csv(api_covid)\n",
    "\n",
    "# API link from:\n",
    "# https://labor.ny.gov/stats/LSLAUS.shtm\n",
    "# api_labor = 'https://www.labor.ny.gov/stats/lausCSV.asp?PASS=1&geog=21093561'\n",
    "# data_labor = requests.get(api_labor).text\n",
    "\n",
    "# With downloaded labor file\n",
    "try:\n",
    "    with open('./data/lausCSV.csv', 'r') as f:\n",
    "        data_labor = f.read()\n",
    "except IOError:\n",
    "    print('Error: Labor data file not found')"
   ]
  },
  {
   "cell_type": "markdown",
   "metadata": {},
   "source": [
    "### Secton-1 Shelter data"
   ]
  },
  {
   "cell_type": "code",
   "execution_count": null,
   "metadata": {},
   "outputs": [],
   "source": [
    "display('shelter', df_shelter.columns)"
   ]
  },
  {
   "cell_type": "code",
   "execution_count": null,
   "metadata": {},
   "outputs": [],
   "source": [
    "columns_orig = [\n",
    "    'date_of_census',\n",
    "    'total_adults_in_shelter',\n",
    "    'total_children_in_shelter',\n",
    "    'total_individuals_in_shelter',\n",
    "    'total_individuals_in_families_with_children_in_shelter_',\n",
    "    'individuals_in_adult_families_in_shelter'\n",
    "]\n",
    "columns_renamed = [\n",
    "    'Shelter Adults',\n",
    "    'Shelter Children',\n",
    "    'Shelter Total',\n",
    "    'Shelter Individuals In Families With Children',\n",
    "    'Shelter Individuals In Adult Families',\n",
    "]\n",
    "\n",
    "# Create df_shelter\n",
    "df_shelter = pd.read_csv(\n",
    "    api_shelter,\n",
    "    index_col='date_of_census',\n",
    "    usecols=columns_orig,\n",
    ")\n",
    "display(df_shelter.columns)\n",
    "\n",
    "df_shelter.columns = columns_renamed\n",
    "df_shelter = df_shelter[~df_shelter.index.duplicated(keep='first')]\n",
    "df_shelter.index = pd.to_datetime(df_shelter.index)\n",
    "df_shelter.sort_index(inplace=True)\n",
    "display(df_shelter)\n",
    "display(df_shelter.info())"
   ]
  },
  {
   "cell_type": "markdown",
   "metadata": {},
   "source": [
    "### Section-2 - COVID data"
   ]
  },
  {
   "cell_type": "code",
   "execution_count": null,
   "metadata": {},
   "outputs": [],
   "source": [
    "display('covid', df_covid.columns)"
   ]
  },
  {
   "cell_type": "code",
   "execution_count": null,
   "metadata": {},
   "outputs": [],
   "source": [
    "# Create df_covid\n",
    "columns_orig = [\n",
    "    'date_of_interest',\n",
    "    'case_count',\n",
    "    'hospitalized_count',\n",
    "    'death_count'\n",
    "]\n",
    "columns_renamed = [\n",
    "    'COVID Cases',\n",
    "    'COVID Hospitalizations',\n",
    "    'COVID Deaths',\n",
    "]\n",
    "df_covid = pd.read_csv(\n",
    "    api_covid,\n",
    "    index_col='date_of_interest',\n",
    "    usecols=columns_orig\n",
    ")\n",
    "df_covid.columns = columns_renamed\n",
    "df_covid.index = pd.to_datetime(df_covid.index)\n",
    "df_covid.sort_index(inplace=True)\n",
    "display(df_covid)\n",
    "display(df_covid.info())"
   ]
  },
  {
   "cell_type": "code",
   "execution_count": null,
   "metadata": {},
   "outputs": [],
   "source": [
    "# Join shelter, covid dataframes\n",
    "df_shelter_covid = pd.concat([df_shelter, df_covid], axis=1, sort=False)\n",
    "\n",
    "# Drop dates in df_shelter don't overlap with df_covid\n",
    "df_shelter_covid.dropna(inplace=True)\n",
    "\n",
    "display(df_shelter_covid.info())"
   ]
  },
  {
   "cell_type": "markdown",
   "metadata": {},
   "source": [
    "### Section-3 - Labor data"
   ]
  },
  {
   "cell_type": "code",
   "execution_count": null,
   "metadata": {},
   "outputs": [],
   "source": [
    "# Grab rows with dataset title, column names, and two years\n",
    "select_file_rows = lambda lines: [lines[idx-2:idx+2] for idx, line in enumerate(lines) if line.startswith('2020')]\n",
    "\n",
    "# Split row strings into lists, reverse the order (old to new), remove three columns (year, annual average, and trailing empty column)\n",
    "split_rows_into_list_by_year = lambda rows: {\n",
    "    variable[0].strip().title(): {l[0]: l[1:-2] for l in list(map(lambda x: x.strip().split(','), variable[-1:1:-1]))}\n",
    "    for variable in rows\n",
    "}\n",
    "\n",
    "# Concat years into one list per variable all in one dict\n",
    "concat_years_into_one_list = lambda variables: {\n",
    "    variable_name: [value for lst in d.values() for value in lst]\n",
    "    for variable_name, d in variables.items()\n",
    "}\n",
    "\n",
    "# Create dataframe from dict of variables\n",
    "def create_df(variables):\n",
    "    df = pd.DataFrame(\n",
    "        variables,\n",
    "        index=pd.date_range(start='2019-01-01', end='2020-12-31', freq='m')\n",
    "    )\n",
    "    # Remove NaN values from dataframe\n",
    "    df = df.replace('', np.nan).dropna()\n",
    "    \n",
    "    # Fix one column's datatype\n",
    "    df['Unemployment Rate'] = df['Unemployment Rate'].transform(\n",
    "        lambda x: float(x.strip('%')) / 100 if type(x) is str and x else np.nan,\n",
    "        axis=0\n",
    "    )\n",
    "    \n",
    "    # Fix type of remaining columns\n",
    "    types = {\n",
    "        'Unemployment Rate': float,\n",
    "        'Labor Force': int,\n",
    "        'Employed': int,\n",
    "        'Unemployed': int,\n",
    "    }\n",
    "    df = df.astype(types)\n",
    "    \n",
    "    return df\n",
    "\n",
    "df_labor = create_df(\n",
    "    concat_years_into_one_list(\n",
    "        split_rows_into_list_by_year(\n",
    "            select_file_rows(\n",
    "                data_labor.split('\\n')))))\n",
    "\n",
    "# Note that all columns are object type\n",
    "display(df_labor.info())\n",
    "display(df_labor)"
   ]
  },
  {
   "cell_type": "markdown",
   "metadata": {},
   "source": [
    "### Section-4 - Raw data plots"
   ]
  },
  {
   "cell_type": "code",
   "execution_count": null,
   "metadata": {},
   "outputs": [],
   "source": [
    "fig = plt.figure(figsize=(16, 16))\n",
    "\n",
    "# Shelter\n",
    "ax = fig.add_subplot(2, 2, 1)\n",
    "ax.set_title('Shelter population')\n",
    "_ = df_shelter_covid.plot(\n",
    "    ax=ax,\n",
    "    y=[\n",
    "        'Shelter Adults',\n",
    "        'Shelter Children',\n",
    "        'Shelter Total',\n",
    "    ]\n",
    ")\n",
    "\n",
    "# COVID\n",
    "ax = fig.add_subplot(2, 2, 2)\n",
    "ax.set_title('COVID-19 incidents')\n",
    "_ = df_shelter_covid.plot(\n",
    "    ax=ax,\n",
    "    y=[\n",
    "        'COVID Cases',\n",
    "        'COVID Hospitalizations',\n",
    "        'COVID Deaths',\n",
    "    ]\n",
    ")\n",
    "\n",
    "# Labor\n",
    "ax = fig.add_subplot(2, 2, 3)\n",
    "ax.set_title('Labor statistics')\n",
    "_ = df_labor.loc['2020-02-29':].plot(\n",
    "    ax=ax,\n",
    "    y=[\n",
    "        'Unemployment Rate',\n",
    "    ]\n",
    ")\n",
    "\n",
    "# Create figures dir for saved plot images\n",
    "os.makedirs('./figures', exist_ok=True)\n",
    "fig.savefig('./figures/raw_plots.png')"
   ]
  },
  {
   "cell_type": "markdown",
   "metadata": {},
   "source": [
    "### Correlation Plots"
   ]
  },
  {
   "cell_type": "code",
   "execution_count": null,
   "metadata": {},
   "outputs": [],
   "source": [
    "# https://www.researchgate.net/figure/Meaning-of-Pearson-correlation-coefficient-value-r_tbl1_299402589\n",
    "correlation_values = [-1, -0.7, -0.5, -0.3, 0, 0.3, 0.5, 0.7, 1]\n",
    "meaning = ['Perfect Negative Correlation',\n",
    "           'Strong Negative Correlation',\n",
    "           'Moderate Negative Correlation',\n",
    "           'Weak Negative Correlation',\n",
    "           'No Linear Relationship',\n",
    "           'Weak Positive Correlation',\n",
    "           'Moderate Positive Correlation',\n",
    "           'Strong Positive Correlation',\n",
    "           'Perfect Positive Correlation']\n",
    "correlation_values_df = pd.DataFrame()\n",
    "correlation_values_df['Correlation'] = correlation_values\n",
    "correlation_values_df['Meaning'] = meaning"
   ]
  },
  {
   "cell_type": "code",
   "execution_count": null,
   "metadata": {},
   "outputs": [],
   "source": [
    "def evaluate_linear_relationship(a, b):\n",
    "    slope = np.cov(a, b, bias=True)[0][1] / np.var(a)\n",
    "    intercept = np.mean(b) - (slope * np.mean(a))\n",
    "    predictions = (slope * a) + intercept\n",
    "    residuals = b - predictions\n",
    "    return slope, intercept, predictions, residuals"
   ]
  },
  {
   "cell_type": "code",
   "execution_count": null,
   "metadata": {},
   "outputs": [],
   "source": [
    "fig = plt.figure(figsize=(16,16))\n",
    "\n",
    "# population vs Cases\n",
    "print('Shelter Population vs. COVID Cases Correlation:', np.round(stats.pearsonr(df_shelter_covid['Shelter Total'], df_shelter_covid['COVID Cases'])[0], 4))\n",
    "slope, intercept, predictions, residuals = evaluate_linear_relationship(df_shelter_covid['Shelter Total'], df_shelter_covid['COVID Cases'])\n",
    "ax = fig.add_subplot(2, 2, 1)\n",
    "_ = ax.scatter(df_shelter_covid['Shelter Total'], df_shelter_covid['COVID Cases'])\n",
    "_ = ax.plot(df_shelter_covid['Shelter Total'], predictions)\n",
    "_ = ax.set_xlabel('Shelter Total')\n",
    "_ = ax.set_ylabel('COVID Cases')\n",
    "_ = ax.set_title('Shelter Population vs. COVID Cases')\n",
    "\n",
    "# population vs Hospitalizations\n",
    "slope, intercept, predictions, residuals = evaluate_linear_relationship(df_shelter_covid['Shelter Total'], df_shelter_covid['COVID Hospitalizations'])\n",
    "print('Shelter Population vs. COVID Hospitalizations Correlation:', np.round(stats.pearsonr(df_shelter_covid['Shelter Total'], df_shelter_covid['COVID Hospitalizations'])[0], 4))\n",
    "ax = fig.add_subplot(2, 2, 2)\n",
    "_ = ax.scatter(df_shelter_covid['Shelter Total'], df_shelter_covid['COVID Hospitalizations'])\n",
    "_ = ax.plot(df_shelter_covid['Shelter Total'], predictions)\n",
    "_ = ax.set_xlabel('Shelter Total')\n",
    "_ = ax.set_ylabel('COVID Hospitalizations')\n",
    "_ = ax.set_title('Shelter Population vs. COVID Hospitalizations')\n",
    "\n",
    "# population vs death\n",
    "slope, intercept, predictions, residuals = evaluate_linear_relationship(df_shelter_covid['Shelter Total'], df_shelter_covid['COVID Deaths'])\n",
    "print('Shelter Population vs. COVID Deaths Correlation:', np.round(stats.pearsonr(df_shelter_covid['Shelter Total'], df_shelter_covid['COVID Deaths'])[0], 4))\n",
    "ax = fig.add_subplot(2, 2, 3)\n",
    "_ = ax.scatter(df_shelter_covid['Shelter Total'], df_shelter_covid['COVID Deaths'])\n",
    "_ = ax.plot(df_shelter_covid['Shelter Total'], predictions)\n",
    "_ = ax.set_xlabel('Shelter Total')\n",
    "_ = ax.set_ylabel('COVID Deaths')\n",
    "_ = ax.set_title('Shelter Population vs. COVID Deaths')\n",
    "\n",
    "# Create figures dir for saved plot images\n",
    "os.makedirs('./figures', exist_ok=True)\n",
    "fig.savefig('./figures/correlation_plots.png')"
   ]
  }
 ],
 "metadata": {
  "kernelspec": {
   "display_name": "Python 3",
   "language": "python",
   "name": "python3"
  },
  "language_info": {
   "codemirror_mode": {
    "name": "ipython",
    "version": 3
   },
   "file_extension": ".py",
   "mimetype": "text/x-python",
   "name": "python",
   "nbconvert_exporter": "python",
   "pygments_lexer": "ipython3",
   "version": "3.8.3"
  }
 },
 "nbformat": 4,
 "nbformat_minor": 4
}
